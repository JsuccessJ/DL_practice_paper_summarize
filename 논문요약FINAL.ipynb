{
 "cells": [
  {
   "cell_type": "markdown",
   "metadata": {
    "id": "sDHaVruU1QWC"
   },
   "source": [
    "# Fine Tuning Transformer for Summary Generation"
   ]
  },
  {
   "cell_type": "code",
   "execution_count": 1,
   "metadata": {
    "id": "WD_vnyLXZQzD"
   },
   "outputs": [],
   "source": [
    "!pip install transformers -q\n",
    "!pip install wandb -q"
   ]
  },
  {
   "cell_type": "code",
   "execution_count": 2,
   "metadata": {
    "colab": {
     "base_uri": "https://localhost:8080/"
    },
    "id": "Rlqmz0852Gy6",
    "outputId": "54151118-d295-4ad5-95b8-46cb74469c80"
   },
   "outputs": [],
   "source": [
    "path = 'D:/jupyter_notebook/thesis/'"
   ]
  },
  {
   "cell_type": "markdown",
   "metadata": {},
   "source": [
    "# Ai허브에서 가져온 데이터를 이용해 데이터 전처리!!"
   ]
  },
  {
   "cell_type": "code",
   "execution_count": 3,
   "metadata": {},
   "outputs": [],
   "source": [
    "import numpy as np\n",
    "import pandas as pd\n",
    "import json"
   ]
  },
  {
   "cell_type": "code",
   "execution_count": 4,
   "metadata": {},
   "outputs": [],
   "source": [
    "# json 파일 가져오기\n",
    "\n",
    "with open(path + '논문요약_0206_0.json', 'r', encoding='utf-8') as f:\n",
    "  json_thesis_0206_0 = json.load(f)\n",
    "\n",
    "with open(path + '논문요약_0206_1.json', 'r', encoding='utf-8') as f:\n",
    "  json_thesis_0206_1 = json.load(f)\n",
    "\n",
    "with open(path + '논문요약_0206_2.json', 'r', encoding='utf-8') as f:\n",
    "  json_thesis_0206_2 = json.load(f)\n",
    "\n",
    "with open(path + '논문요약_0220_0.json', 'r', encoding='utf-8') as f:\n",
    "  json_thesis_0220_0 = json.load(f)\n",
    "\n",
    "with open(path + '논문요약_0225_5_1.json', 'r', encoding='utf-8') as f:\n",
    "  json_thesis_0225_5_1 = json.load(f)\n",
    "\n",
    "with open(path + '논문요약_0225_7_0.json', 'r', encoding='utf-8') as f:\n",
    "  json_thesis_0225_7_0 = json.load(f)"
   ]
  },
  {
   "cell_type": "code",
   "execution_count": 5,
   "metadata": {},
   "outputs": [],
   "source": [
    "# json 파일을 DataFrame 형식으로 바꾸기. 자연어 추후 전처리 필요\n",
    "\n",
    "df_thesis_0206_0 = pd.DataFrame(json_thesis_0206_0['data'])\n",
    "df_thesis_0206_1 = pd.DataFrame(json_thesis_0206_1['data'])\n",
    "df_thesis_0206_2 = pd.DataFrame(json_thesis_0206_2['data'])\n",
    "df_thesis_0220_0 = pd.DataFrame(json_thesis_0220_0['data'])\n",
    "df_thesis_0225_5_1 = pd.DataFrame(json_thesis_0225_5_1['data'])\n",
    "df_thesis_0225_7_0 = pd.DataFrame(json_thesis_0225_7_0['data'])"
   ]
  },
  {
   "cell_type": "code",
   "execution_count": 6,
   "metadata": {},
   "outputs": [
    {
     "data": {
      "text/html": [
       "<div>\n",
       "<style scoped>\n",
       "    .dataframe tbody tr th:only-of-type {\n",
       "        vertical-align: middle;\n",
       "    }\n",
       "\n",
       "    .dataframe tbody tr th {\n",
       "        vertical-align: top;\n",
       "    }\n",
       "\n",
       "    .dataframe thead th {\n",
       "        text-align: right;\n",
       "    }\n",
       "</style>\n",
       "<table border=\"1\" class=\"dataframe\">\n",
       "  <thead>\n",
       "    <tr style=\"text-align: right;\">\n",
       "      <th></th>\n",
       "      <th>doc_type</th>\n",
       "      <th>doc_id</th>\n",
       "      <th>title</th>\n",
       "      <th>date</th>\n",
       "      <th>reg_no</th>\n",
       "      <th>ipc</th>\n",
       "      <th>issued_by</th>\n",
       "      <th>author</th>\n",
       "      <th>summary_entire</th>\n",
       "      <th>summary_section</th>\n",
       "    </tr>\n",
       "  </thead>\n",
       "  <tbody>\n",
       "    <tr>\n",
       "      <th>0</th>\n",
       "      <td>논문</td>\n",
       "      <td>A201008176694</td>\n",
       "      <td>교직 선택 결정에 대한 후회 감정의 탐색적 해석</td>\n",
       "      <td>2018</td>\n",
       "      <td>ART002387022</td>\n",
       "      <td>사회과학</td>\n",
       "      <td>사범대학부속중등교육연구소</td>\n",
       "      <td>조석훈 /JO SEOG HUN (단독)</td>\n",
       "      <td>[{'orginal_text': '본 연구는 경제협력개발기구(Organization...</td>\n",
       "      <td>[{'orginal_text': '한국교총은 ‘교사가 된 것을 후회한다.’는 교사 ...</td>\n",
       "    </tr>\n",
       "    <tr>\n",
       "      <th>1</th>\n",
       "      <td>논문</td>\n",
       "      <td>A201008176695</td>\n",
       "      <td>평면 테셀레이션에 대한 대수적 고찰</td>\n",
       "      <td>2018</td>\n",
       "      <td>ART002387017</td>\n",
       "      <td>사회과학</td>\n",
       "      <td>사범대학부속중등교육연구소</td>\n",
       "      <td>정영우 (제1)|||김부윤 /Boo Yoon Kim (교신)|||유현기 (참여)||...</td>\n",
       "      <td>[{'orginal_text': '학교수학에서 다루어지는 테셀레이션에 관한 내용은 ...</td>\n",
       "      <td>[{'orginal_text': '2015년 8월 18일, 새로운 수학적 발견에 관...</td>\n",
       "    </tr>\n",
       "    <tr>\n",
       "      <th>2</th>\n",
       "      <td>논문</td>\n",
       "      <td>A201008176696</td>\n",
       "      <td>한국사교과서 국정화의 정책변동에 대한 연구</td>\n",
       "      <td>2018</td>\n",
       "      <td>ART002387009</td>\n",
       "      <td>사회과학</td>\n",
       "      <td>사범대학부속중등교육연구소</td>\n",
       "      <td>양림 /RIM YANG (단독)</td>\n",
       "      <td>[{'orginal_text': '본 연구는 박근혜 정부에서 추진되었던 한국사교과서...</td>\n",
       "      <td>[{'orginal_text': '정책과정 상 정책변동 이론으로는 전통적으로 합리모...</td>\n",
       "    </tr>\n",
       "    <tr>\n",
       "      <th>3</th>\n",
       "      <td>논문</td>\n",
       "      <td>A201008176697</td>\n",
       "      <td>로봇 활용 SW 교육에서 컴퓨팅사고력 평가: 지필 시험, 비버챌린지, 자기보고식 설...</td>\n",
       "      <td>2018</td>\n",
       "      <td>ART002389353</td>\n",
       "      <td>사회과학</td>\n",
       "      <td>한국교육공학회</td>\n",
       "      <td>노지예 /Jiyae Noh (제1)|||이정민 (교신)</td>\n",
       "      <td>[{'orginal_text': '컴퓨팅사고력은 컴퓨팅의 기본적인 개념과 원리를 기...</td>\n",
       "      <td>[{'orginal_text': '현대 사회에서는 복잡한 문제를 해결하기 위하여 논...</td>\n",
       "    </tr>\n",
       "    <tr>\n",
       "      <th>4</th>\n",
       "      <td>논문</td>\n",
       "      <td>A201008176698</td>\n",
       "      <td>고등학생의 바른 인성함양을 위한 긍정적 태도 형성프로그램의 효과에 관한 연구</td>\n",
       "      <td>2018</td>\n",
       "      <td>ART002387007</td>\n",
       "      <td>사회과학</td>\n",
       "      <td>사범대학부속중등교육연구소</td>\n",
       "      <td>김창현 /Kim Chang Hyun (단독)</td>\n",
       "      <td>[{'orginal_text': '본 연구는 고등학생들의 바른 인성함양을 위한 긍정...</td>\n",
       "      <td>[{'orginal_text': '우리나라 교육정책에서 창의· 인성교육이 교육과정으...</td>\n",
       "    </tr>\n",
       "    <tr>\n",
       "      <th>...</th>\n",
       "      <td>...</td>\n",
       "      <td>...</td>\n",
       "      <td>...</td>\n",
       "      <td>...</td>\n",
       "      <td>...</td>\n",
       "      <td>...</td>\n",
       "      <td>...</td>\n",
       "      <td>...</td>\n",
       "      <td>...</td>\n",
       "      <td>...</td>\n",
       "    </tr>\n",
       "    <tr>\n",
       "      <th>31995</th>\n",
       "      <td>논문</td>\n",
       "      <td>A201008208692</td>\n",
       "      <td>저소득층 학생의 학교 적응, 수업 태도, 학업 성취에 대한 사회적 자본의 영향 분석</td>\n",
       "      <td>2017</td>\n",
       "      <td>ART002279065</td>\n",
       "      <td>사회과학</td>\n",
       "      <td>한국교육개발원</td>\n",
       "      <td>류방란 /Bangran Ryu,김성식</td>\n",
       "      <td>[{'orginal_text': '이 연구는 저소득층 학생의 교육적 취약성과 가능성...</td>\n",
       "      <td>[{'orginal_text': '이 연구는 전국적인 데이터를 활용하여 저소득층 학...</td>\n",
       "    </tr>\n",
       "    <tr>\n",
       "      <th>31996</th>\n",
       "      <td>논문</td>\n",
       "      <td>A201008208693</td>\n",
       "      <td>단어의 정서가와 각성가가 우연학습 이후 기억에 미치는 영향</td>\n",
       "      <td>2017</td>\n",
       "      <td>ART002280350</td>\n",
       "      <td>사회과학</td>\n",
       "      <td>한국인지및생물심리학회</td>\n",
       "      <td>남예은,이윤형</td>\n",
       "      <td>[{'orginal_text': '본 연구의 목적은 단어의 정서적 특성이 어휘판단 ...</td>\n",
       "      <td>[{'orginal_text': '사건에 대한 정서적인 정보는 이와 같은 기억의 처...</td>\n",
       "    </tr>\n",
       "    <tr>\n",
       "      <th>31997</th>\n",
       "      <td>논문</td>\n",
       "      <td>A201008208694</td>\n",
       "      <td>수학수업에 대한 초등교사의 인식 조사</td>\n",
       "      <td>2017</td>\n",
       "      <td>ART002280577</td>\n",
       "      <td>사회과학</td>\n",
       "      <td>한국수학교육학회</td>\n",
       "      <td>권성룡</td>\n",
       "      <td>[{'orginal_text': '본 연구는 초등수학수업의 개선을 목표로 초등교사의...</td>\n",
       "      <td>[{'orginal_text': '최근에 이뤄진 몇 차례의 수학과 교육과정 개정 노...</td>\n",
       "    </tr>\n",
       "    <tr>\n",
       "      <th>31998</th>\n",
       "      <td>논문</td>\n",
       "      <td>A201008208695</td>\n",
       "      <td>SW영재의 학업탄력성과 자아상태 비교</td>\n",
       "      <td>2017</td>\n",
       "      <td>ART002280639</td>\n",
       "      <td>복합학</td>\n",
       "      <td>한국창의정보문화학회</td>\n",
       "      <td>이재호 /Lee Jaeho,김동현 /Donghyun Kim</td>\n",
       "      <td>[{'orginal_text': '본 논문은 SW영재의 학업탄력성과 자아상태를 확인...</td>\n",
       "      <td>[{'orginal_text': '2015년 통계청의 아동 청소년 대상 학업 관련 ...</td>\n",
       "    </tr>\n",
       "    <tr>\n",
       "      <th>31999</th>\n",
       "      <td>논문</td>\n",
       "      <td>A201008208696</td>\n",
       "      <td>성장 수준에 따른 부채비율과 기업의 과잉투자의 관계</td>\n",
       "      <td>2017</td>\n",
       "      <td>ART002280894</td>\n",
       "      <td>사회과학</td>\n",
       "      <td>한국국제회계학회</td>\n",
       "      <td>박원 /Park Won,김예경 /kim ye kyoung</td>\n",
       "      <td>[{'orginal_text': '본 연구에서는 재무적 건전성이 기업의 과잉투자에 ...</td>\n",
       "      <td>[{'orginal_text': '기업은 지속적인 발전과 유지 존속을 위하여 순실현...</td>\n",
       "    </tr>\n",
       "  </tbody>\n",
       "</table>\n",
       "<p>32000 rows × 10 columns</p>\n",
       "</div>"
      ],
      "text/plain": [
       "      doc_type         doc_id   \n",
       "0           논문  A201008176694  \\\n",
       "1           논문  A201008176695   \n",
       "2           논문  A201008176696   \n",
       "3           논문  A201008176697   \n",
       "4           논문  A201008176698   \n",
       "...        ...            ...   \n",
       "31995       논문  A201008208692   \n",
       "31996       논문  A201008208693   \n",
       "31997       논문  A201008208694   \n",
       "31998       논문  A201008208695   \n",
       "31999       논문  A201008208696   \n",
       "\n",
       "                                                   title  date        reg_no   \n",
       "0                             교직 선택 결정에 대한 후회 감정의 탐색적 해석  2018  ART002387022  \\\n",
       "1                                    평면 테셀레이션에 대한 대수적 고찰  2018  ART002387017   \n",
       "2                                한국사교과서 국정화의 정책변동에 대한 연구  2018  ART002387009   \n",
       "3      로봇 활용 SW 교육에서 컴퓨팅사고력 평가: 지필 시험, 비버챌린지, 자기보고식 설...  2018  ART002389353   \n",
       "4             고등학생의 바른 인성함양을 위한 긍정적 태도 형성프로그램의 효과에 관한 연구  2018  ART002387007   \n",
       "...                                                  ...   ...           ...   \n",
       "31995     저소득층 학생의 학교 적응, 수업 태도, 학업 성취에 대한 사회적 자본의 영향 분석  2017  ART002279065   \n",
       "31996                   단어의 정서가와 각성가가 우연학습 이후 기억에 미치는 영향  2017  ART002280350   \n",
       "31997                               수학수업에 대한 초등교사의 인식 조사  2017  ART002280577   \n",
       "31998                               SW영재의 학업탄력성과 자아상태 비교  2017  ART002280639   \n",
       "31999                       성장 수준에 따른 부채비율과 기업의 과잉투자의 관계  2017  ART002280894   \n",
       "\n",
       "        ipc      issued_by                                             author   \n",
       "0      사회과학  사범대학부속중등교육연구소                              조석훈 /JO SEOG HUN (단독)  \\\n",
       "1      사회과학  사범대학부속중등교육연구소  정영우 (제1)|||김부윤 /Boo Yoon Kim (교신)|||유현기 (참여)||...   \n",
       "2      사회과학  사범대학부속중등교육연구소                                  양림 /RIM YANG (단독)   \n",
       "3      사회과학        한국교육공학회                     노지예 /Jiyae Noh (제1)|||이정민 (교신)   \n",
       "4      사회과학  사범대학부속중등교육연구소                           김창현 /Kim Chang Hyun (단독)   \n",
       "...     ...            ...                                                ...   \n",
       "31995  사회과학        한국교육개발원                               류방란 /Bangran Ryu,김성식   \n",
       "31996  사회과학    한국인지및생물심리학회                                            남예은,이윤형   \n",
       "31997  사회과학       한국수학교육학회                                                권성룡   \n",
       "31998   복합학     한국창의정보문화학회                   이재호 /Lee Jaeho,김동현 /Donghyun Kim   \n",
       "31999  사회과학       한국국제회계학회                    박원 /Park Won,김예경 /kim ye kyoung   \n",
       "\n",
       "                                          summary_entire   \n",
       "0      [{'orginal_text': '본 연구는 경제협력개발기구(Organization...  \\\n",
       "1      [{'orginal_text': '학교수학에서 다루어지는 테셀레이션에 관한 내용은 ...   \n",
       "2      [{'orginal_text': '본 연구는 박근혜 정부에서 추진되었던 한국사교과서...   \n",
       "3      [{'orginal_text': '컴퓨팅사고력은 컴퓨팅의 기본적인 개념과 원리를 기...   \n",
       "4      [{'orginal_text': '본 연구는 고등학생들의 바른 인성함양을 위한 긍정...   \n",
       "...                                                  ...   \n",
       "31995  [{'orginal_text': '이 연구는 저소득층 학생의 교육적 취약성과 가능성...   \n",
       "31996  [{'orginal_text': '본 연구의 목적은 단어의 정서적 특성이 어휘판단 ...   \n",
       "31997  [{'orginal_text': '본 연구는 초등수학수업의 개선을 목표로 초등교사의...   \n",
       "31998  [{'orginal_text': '본 논문은 SW영재의 학업탄력성과 자아상태를 확인...   \n",
       "31999  [{'orginal_text': '본 연구에서는 재무적 건전성이 기업의 과잉투자에 ...   \n",
       "\n",
       "                                         summary_section  \n",
       "0      [{'orginal_text': '한국교총은 ‘교사가 된 것을 후회한다.’는 교사 ...  \n",
       "1      [{'orginal_text': '2015년 8월 18일, 새로운 수학적 발견에 관...  \n",
       "2      [{'orginal_text': '정책과정 상 정책변동 이론으로는 전통적으로 합리모...  \n",
       "3      [{'orginal_text': '현대 사회에서는 복잡한 문제를 해결하기 위하여 논...  \n",
       "4      [{'orginal_text': '우리나라 교육정책에서 창의· 인성교육이 교육과정으...  \n",
       "...                                                  ...  \n",
       "31995  [{'orginal_text': '이 연구는 전국적인 데이터를 활용하여 저소득층 학...  \n",
       "31996  [{'orginal_text': '사건에 대한 정서적인 정보는 이와 같은 기억의 처...  \n",
       "31997  [{'orginal_text': '최근에 이뤄진 몇 차례의 수학과 교육과정 개정 노...  \n",
       "31998  [{'orginal_text': '2015년 통계청의 아동 청소년 대상 학업 관련 ...  \n",
       "31999  [{'orginal_text': '기업은 지속적인 발전과 유지 존속을 위하여 순실현...  \n",
       "\n",
       "[32000 rows x 10 columns]"
      ]
     },
     "execution_count": 6,
     "metadata": {},
     "output_type": "execute_result"
    }
   ],
   "source": [
    "df_thesis_0206_0"
   ]
  },
  {
   "cell_type": "code",
   "execution_count": 7,
   "metadata": {},
   "outputs": [],
   "source": [
    "thesis_0206_0 = list()\n",
    "thesis_0206_1 = list()\n",
    "thesis_0206_2 = list()\n",
    "thesis_0220_0 = list()\n",
    "thesis_0225_5_1 = list()\n",
    "thesis_0225_7_0 = list()\n",
    "\n",
    "for e in json_thesis_0206_0['data']:\n",
    "  thesis_0206_0.append(e['summary_entire'][0])\n",
    "\n",
    "for e in json_thesis_0206_1['data']:\n",
    "  thesis_0206_1.append(e['summary_entire'][0])\n",
    "\n",
    "for e in json_thesis_0206_2['data']:\n",
    "  thesis_0206_2.append(e['summary_entire'][0])\n",
    "\n",
    "for e in json_thesis_0220_0['data']:\n",
    "  thesis_0220_0.append(e['summary_entire'][0])\n",
    "\n",
    "for e in json_thesis_0225_5_1['data']:\n",
    "  thesis_0225_5_1.append(e['summary_entire'][0])\n",
    "\n",
    "for e in json_thesis_0225_7_0['data']:\n",
    "  thesis_0225_7_0.append(e['summary_entire'][0])\n",
    "\n",
    "df_thesis_0206_0 = pd.DataFrame(thesis_0206_0)\n",
    "df_thesis_0206_1 = pd.DataFrame(thesis_0206_1)\n",
    "df_thesis_0206_2 = pd.DataFrame(thesis_0206_2)\n",
    "df_thesis_0220_0 = pd.DataFrame(thesis_0220_0)\n",
    "df_thesis_0225_5_1 = pd.DataFrame(thesis_0225_5_1)\n",
    "df_thesis_0225_7_0 = pd.DataFrame(thesis_0225_7_0)\n",
    "\n",
    "#모든 dataframe을 concat으로 합쳐서 df라는 하나의 dataframe으로 만듦\n",
    "df = pd.concat([df_thesis_0206_0, df_thesis_0206_1, df_thesis_0206_2, df_thesis_0220_0, df_thesis_0225_5_1, df_thesis_0225_7_0])"
   ]
  },
  {
   "cell_type": "code",
   "execution_count": 8,
   "metadata": {},
   "outputs": [
    {
     "data": {
      "text/html": [
       "<div>\n",
       "<style scoped>\n",
       "    .dataframe tbody tr th:only-of-type {\n",
       "        vertical-align: middle;\n",
       "    }\n",
       "\n",
       "    .dataframe tbody tr th {\n",
       "        vertical-align: top;\n",
       "    }\n",
       "\n",
       "    .dataframe thead th {\n",
       "        text-align: right;\n",
       "    }\n",
       "</style>\n",
       "<table border=\"1\" class=\"dataframe\">\n",
       "  <thead>\n",
       "    <tr style=\"text-align: right;\">\n",
       "      <th></th>\n",
       "      <th>orginal_text</th>\n",
       "      <th>summary_text</th>\n",
       "    </tr>\n",
       "  </thead>\n",
       "  <tbody>\n",
       "    <tr>\n",
       "      <th>9</th>\n",
       "      <td>본 연구의 목적은 컴퓨팅 사고력 향상을 위한 SW 교육의 효과성을 메타분석을 통해 ...</td>\n",
       "      <td>본 논문은 컴퓨팅 사고력 향상을 위한 SW 교육의 효과성을 메타분석을 통해 체계적으...</td>\n",
       "    </tr>\n",
       "    <tr>\n",
       "      <th>10</th>\n",
       "      <td>사회불안과 섭식문제는 공병률이 높은 병리인데, 본 연구는 전자가 후자로 옮아가는 과...</td>\n",
       "      <td>사회불안과 섭식문제는 공병률이 높은 병리인데, 본 논문은 전자가 후자로 옮아가는 과...</td>\n",
       "    </tr>\n",
       "    <tr>\n",
       "      <th>16</th>\n",
       "      <td>우리나라에서 SW교육은 21세기 미래 인재 양성을 위한 중요한 교육정책의 하나이다....</td>\n",
       "      <td>본 논문은 미국, 핀란드, 에스토니아, 영국의 교사교육 사례를 분석하고 이를 통하여...</td>\n",
       "    </tr>\n",
       "    <tr>\n",
       "      <th>23</th>\n",
       "      <td>‘잘 가르치는 일’로서 교육공학은 모종의 처방적인 활동임이 틀림없다. 이 점에서 교...</td>\n",
       "      <td>본 논문은 교육공학의 현상 이면에 보이지 않는 본질을 드러내기 위하여 존재 의미에 ...</td>\n",
       "    </tr>\n",
       "    <tr>\n",
       "      <th>32</th>\n",
       "      <td>노화로 인한 많은 변화 가운데, 특히 신체 건강과 통증은 노인들에게 매우 중요한 문...</td>\n",
       "      <td>본 논문은 최근 심신건강과 관련된 분야에서 주목받고 있는 명상 접근법인 한국형 마음...</td>\n",
       "    </tr>\n",
       "    <tr>\n",
       "      <th>...</th>\n",
       "      <td>...</td>\n",
       "      <td>...</td>\n",
       "    </tr>\n",
       "    <tr>\n",
       "      <th>31970</th>\n",
       "      <td>본 연구자는 분석틀에 의해 노랫말의 문학적 요소를 생활주제별, 놀이유형별 소재, 외...</td>\n",
       "      <td>본고는 분석틀에 의하여 노랫말의 문학적 요소를 생활주제별과 놀이유형별 소재, 외적형...</td>\n",
       "    </tr>\n",
       "    <tr>\n",
       "      <th>31989</th>\n",
       "      <td>대법원은 ‘대법원 2017. 2. 16. 선고 2016도13362 전원합의체 판결’...</td>\n",
       "      <td>대법원은 ‘대법원 2017. 2. 16. 선고 2016도13362 전원합의체 판결’...</td>\n",
       "    </tr>\n",
       "    <tr>\n",
       "      <th>31992</th>\n",
       "      <td>17세기 조선 양반 사회는 결혼 형태 변화와 함께 젠더 계층화(gender stra...</td>\n",
       "      <td>17세기 조선 양반 사회는 결혼 형태 변화와 함께 젠더 계층화를 시도하는 과정에서 ...</td>\n",
       "    </tr>\n",
       "    <tr>\n",
       "      <th>31994</th>\n",
       "      <td>군사법제도를 둘러싼 쟁점 중 가장 중요하고도 본질적인 것은 과연 평시에 특별법원으로...</td>\n",
       "      <td>군사법제도를 둘러싼 쟁점 중 가장 중요하고도 본질적인 것은 과연 평시에 특별법원으로...</td>\n",
       "    </tr>\n",
       "    <tr>\n",
       "      <th>31995</th>\n",
       "      <td>이 연구는 저소득층 학생의 교육적 취약성과 가능성 탐색의 맥락에서 저소득층 학생과 ...</td>\n",
       "      <td>본 논문은 저소득층 학생의 교육적 취약성과 가능성 탐색의 맥락에서 저소득층 학생과 ...</td>\n",
       "    </tr>\n",
       "  </tbody>\n",
       "</table>\n",
       "<p>10397 rows × 2 columns</p>\n",
       "</div>"
      ],
      "text/plain": [
       "                                            orginal_text   \n",
       "9      본 연구의 목적은 컴퓨팅 사고력 향상을 위한 SW 교육의 효과성을 메타분석을 통해 ...  \\\n",
       "10     사회불안과 섭식문제는 공병률이 높은 병리인데, 본 연구는 전자가 후자로 옮아가는 과...   \n",
       "16     우리나라에서 SW교육은 21세기 미래 인재 양성을 위한 중요한 교육정책의 하나이다....   \n",
       "23     ‘잘 가르치는 일’로서 교육공학은 모종의 처방적인 활동임이 틀림없다. 이 점에서 교...   \n",
       "32     노화로 인한 많은 변화 가운데, 특히 신체 건강과 통증은 노인들에게 매우 중요한 문...   \n",
       "...                                                  ...   \n",
       "31970  본 연구자는 분석틀에 의해 노랫말의 문학적 요소를 생활주제별, 놀이유형별 소재, 외...   \n",
       "31989  대법원은 ‘대법원 2017. 2. 16. 선고 2016도13362 전원합의체 판결’...   \n",
       "31992  17세기 조선 양반 사회는 결혼 형태 변화와 함께 젠더 계층화(gender stra...   \n",
       "31994  군사법제도를 둘러싼 쟁점 중 가장 중요하고도 본질적인 것은 과연 평시에 특별법원으로...   \n",
       "31995  이 연구는 저소득층 학생의 교육적 취약성과 가능성 탐색의 맥락에서 저소득층 학생과 ...   \n",
       "\n",
       "                                            summary_text  \n",
       "9      본 논문은 컴퓨팅 사고력 향상을 위한 SW 교육의 효과성을 메타분석을 통해 체계적으...  \n",
       "10     사회불안과 섭식문제는 공병률이 높은 병리인데, 본 논문은 전자가 후자로 옮아가는 과...  \n",
       "16     본 논문은 미국, 핀란드, 에스토니아, 영국의 교사교육 사례를 분석하고 이를 통하여...  \n",
       "23     본 논문은 교육공학의 현상 이면에 보이지 않는 본질을 드러내기 위하여 존재 의미에 ...  \n",
       "32     본 논문은 최근 심신건강과 관련된 분야에서 주목받고 있는 명상 접근법인 한국형 마음...  \n",
       "...                                                  ...  \n",
       "31970  본고는 분석틀에 의하여 노랫말의 문학적 요소를 생활주제별과 놀이유형별 소재, 외적형...  \n",
       "31989  대법원은 ‘대법원 2017. 2. 16. 선고 2016도13362 전원합의체 판결’...  \n",
       "31992  17세기 조선 양반 사회는 결혼 형태 변화와 함께 젠더 계층화를 시도하는 과정에서 ...  \n",
       "31994  군사법제도를 둘러싼 쟁점 중 가장 중요하고도 본질적인 것은 과연 평시에 특별법원으로...  \n",
       "31995  본 논문은 저소득층 학생의 교육적 취약성과 가능성 탐색의 맥락에서 저소득층 학생과 ...  \n",
       "\n",
       "[10397 rows x 2 columns]"
      ]
     },
     "execution_count": 8,
     "metadata": {},
     "output_type": "execute_result"
    }
   ],
   "source": [
    "#orginal_text 길이는 700이상 1000이하로 제한\n",
    "#summary_text 길이는 150이상 200이하로 제한\n",
    "#이유\n",
    "#1. 데이터 길이 분포가 전처리 전보다 고르게 분포하도록 하기 위함\n",
    "#2. 입력데이터들의 길이가 비슷한것이 모델의 학습효과에도 좋기 때문\n",
    "\n",
    "df = df[\n",
    "    (df['orginal_text'].str.len() <= 1000) &\n",
    "    (df['orginal_text'].str.len() >= 700)\n",
    "]\n",
    "\n",
    "df = df[\n",
    "    (df['summary_text'].str.len() <= 200) &\n",
    "    (df['summary_text'].str.len() >= 150)\n",
    "]\n",
    "df"
   ]
  },
  {
   "cell_type": "code",
   "execution_count": 9,
   "metadata": {},
   "outputs": [
    {
     "name": "stdout",
     "output_type": "stream",
     "text": [
      "Min length :  700\n",
      "Max length :  1000\n",
      "Average length :  826\n"
     ]
    },
    {
     "data": {
      "image/png": "[encoded data removed]",
      "text/plain": [
       "<Figure size 640x480 with 1 Axes>"
      ]
     },
     "metadata": {},
     "output_type": "display_data"
    }
   ],
   "source": [
    "#입력데이터의 길이 분포를 확인하기 위한 코드\n",
    "\n",
    "import pandas as pd\n",
    "\n",
    "sentences = df[\"orginal_text\"] #이 때 나오는 그래프는 orginal_text의 길이 분포, 만약 summary_text의 분포를 확인하고 싶다면 summary_text로 바꿔서 길이 분포 확인할 수 있음\n",
    "\n",
    "import matplotlib.pyplot as plt\n",
    "\n",
    "min_len = 999\n",
    "max_len = 0\n",
    "sum_len = 0\n",
    "\n",
    "for s in sentences:\n",
    "  if len(s) < min_len :\n",
    "    min_len = len(s)\n",
    "  if len(s) > max_len :\n",
    "    max_len = len(s)\n",
    "  sum_len += len(s)\n",
    "\n",
    "print('Min length : ', min_len)\n",
    "print('Max length : ', max_len)\n",
    "print('Average length : ', sum_len // len(sentences))\n",
    "\n",
    "sen_length_cnt = [0] * max_len\n",
    "for sen in sentences:\n",
    "  sen_length_cnt[len(sen)-1] += 1\n",
    "\n",
    "plt.bar(range(max_len), sen_length_cnt, width=1.0)\n",
    "plt.show()"
   ]
  },
  {
   "cell_type": "code",
   "execution_count": 10,
   "metadata": {},
   "outputs": [],
   "source": [
    "import pandas as pd\n",
    "\n",
    "#열이름 바꿔줌\n",
    "\n",
    "df.rename(columns={'orginal_text': 'ctext'}, inplace=True)\n",
    "df.rename(columns={'summary_text': 'text'}, inplace=True)\n",
    "\n",
    "# DataFrame을 csv로 저장\n",
    "df.to_csv('train.csv', index=True, encoding='utf-8')\n"
   ]
  },
  {
   "cell_type": "markdown",
   "metadata": {},
   "source": [
    "# 모델 만들기 시작!!!"
   ]
  },
  {
   "cell_type": "code",
   "execution_count": 11,
   "metadata": {
    "id": "pzM1_ykHaFur",
    "tags": []
   },
   "outputs": [
    {
     "name": "stderr",
     "output_type": "stream",
     "text": [
      "C:\\Users\\dnclab\\anaconda3\\envs\\jaesung\\lib\\site-packages\\tqdm\\auto.py:21: TqdmWarning: IProgress not found. Please update jupyter and ipywidgets. See https://ipywidgets.readthedocs.io/en/stable/user_install.html\n",
      "  from .autonotebook import tqdm as notebook_tqdm\n"
     ]
    }
   ],
   "source": [
    "# Importing stock libraries\n",
    "import numpy as np\n",
    "import pandas as pd\n",
    "import torch\n",
    "import torch.nn.functional as F\n",
    "from torch.utils.data import Dataset, DataLoader, RandomSampler, SequentialSampler\n",
    "\n",
    "# Importing the T5 modules from huggingface/transformers\n",
    "from transformers import T5Tokenizer, T5ForConditionalGeneration\n",
    "\n",
    "# WandB – Import the wandb library\n",
    "import wandb"
   ]
  },
  {
   "cell_type": "code",
   "execution_count": 12,
   "metadata": {
    "colab": {
     "base_uri": "https://localhost:8080/"
    },
    "id": "KvPxXdKJguYB",
    "outputId": "3a806628-4633-4b92-c02c-ad701d3f3345",
    "tags": []
   },
   "outputs": [
    {
     "name": "stdout",
     "output_type": "stream",
     "text": [
      "Sat Jun  3 00:12:03 2023       \n",
      "+-----------------------------------------------------------------------------+\n",
      "| NVIDIA-SMI 528.49       Driver Version: 528.49       CUDA Version: 12.0     |\n",
      "|-------------------------------+----------------------+----------------------+\n",
      "| GPU  Name            TCC/WDDM | Bus-Id        Disp.A | Volatile Uncorr. ECC |\n",
      "| Fan  Temp  Perf  Pwr:Usage/Cap|         Memory-Usage | GPU-Util  Compute M. |\n",
      "|                               |                      |               MIG M. |\n",
      "|===============================+======================+======================|\n",
      "|   0  NVIDIA GeForce ... WDDM  | 00000000:01:00.0  On |                  N/A |\n",
      "| 34%   53C    P8    25W / 370W |    680MiB / 10240MiB |      6%      Default |\n",
      "|                               |                      |                  N/A |\n",
      "+-------------------------------+----------------------+----------------------+\n",
      "                                                                               \n",
      "+-----------------------------------------------------------------------------+\n",
      "| Processes:                                                                  |\n",
      "|  GPU   GI   CI        PID   Type   Process name                  GPU Memory |\n",
      "|        ID   ID                                                   Usage      |\n",
      "|=============================================================================|\n",
      "|    0   N/A  N/A      4028    C+G   ...8bbwe\\Microsoft.Notes.exe    N/A      |\n",
      "|    0   N/A  N/A      9824    C+G   ...logioptionsplus_agent.exe    N/A      |\n",
      "|    0   N/A  N/A     10816    C+G   C:\\Windows\\explorer.exe         N/A      |\n",
      "|    0   N/A  N/A     13164    C+G   ...774.57\\msedgewebview2.exe    N/A      |\n",
      "|    0   N/A  N/A     15948    C+G   ...2txyewy\\TextInputHost.exe    N/A      |\n",
      "|    0   N/A  N/A     17152    C+G   ...5n1h2txyewy\\SearchApp.exe    N/A      |\n",
      "|    0   N/A  N/A     17484    C+G   ...y\\ShellExperienceHost.exe    N/A      |\n",
      "|    0   N/A  N/A     18580    C+G   ...e\\PhoneExperienceHost.exe    N/A      |\n",
      "|    0   N/A  N/A     20224    C+G   ...e\\Current\\LogiOverlay.exe    N/A      |\n",
      "|    0   N/A  N/A     23372    C+G   ...8wekyb3d8bbwe\\Cortana.exe    N/A      |\n",
      "|    0   N/A  N/A     24372    C+G   ...ray\\lghub_system_tray.exe    N/A      |\n",
      "|    0   N/A  N/A     24528    C+G   ...ram Files\\LGHUB\\lghub.exe    N/A      |\n",
      "|    0   N/A  N/A     25228    C+G   ...4__8j3eq9eme6ctt\\IGCC.exe    N/A      |\n",
      "|    0   N/A  N/A     25560    C+G   ...\\app-1.0.9013\\Discord.exe    N/A      |\n",
      "|    0   N/A  N/A     26112    C+G   ...oft OneDrive\\OneDrive.exe    N/A      |\n",
      "|    0   N/A  N/A     27200    C+G   ...me\\Application\\chrome.exe    N/A      |\n",
      "|    0   N/A  N/A     29200    C+G   ...3d8bbwe\\CalculatorApp.exe    N/A      |\n",
      "|    0   N/A  N/A     30304    C+G   ...5n1h2txyewy\\SearchApp.exe    N/A      |\n",
      "|    0   N/A  N/A     31688    C+G   ...ge\\Application\\msedge.exe    N/A      |\n",
      "|    0   N/A  N/A     31796    C+G   ...lPanel\\SystemSettings.exe    N/A      |\n",
      "|    0   N/A  N/A     33476    C+G   ...bbwe\\Microsoft.Photos.exe    N/A      |\n",
      "+-----------------------------------------------------------------------------+\n"
     ]
    }
   ],
   "source": [
    "# Checking out the GPU \n",
    "!nvidia-smi"
   ]
  },
  {
   "cell_type": "code",
   "execution_count": 13,
   "metadata": {
    "id": "NLxxwd1scQNv"
   },
   "outputs": [],
   "source": [
    "# Setting up the device for GPU usage\n",
    "from torch import cuda\n",
    "device = 'cuda' if cuda.is_available() else 'cpu'"
   ]
  },
  {
   "cell_type": "code",
   "execution_count": 14,
   "metadata": {
    "colab": {
     "base_uri": "https://localhost:8080/"
    },
    "id": "L-ePh9dEKXMw",
    "outputId": "1b7d40c2-ca83-4318-c78d-9bb341266440"
   },
   "outputs": [
    {
     "name": "stderr",
     "output_type": "stream",
     "text": [
      "wandb: Appending key for api.wandb.ai to your netrc file: C:\\Users\\dnclab/.netrc\n"
     ]
    }
   ],
   "source": [
    "# Login to wandb to log the model run and all the parameters\n",
    "!wandb login f2d7cd4fedd2822e534395005a236ac7b01e0036"
   ]
  },
  {
   "cell_type": "markdown",
   "metadata": {},
   "source": [
    "## 데이터셋 클래스 설정!!"
   ]
  },
  {
   "cell_type": "code",
   "execution_count": 15,
   "metadata": {
    "id": "932p8NhxeNw4"
   },
   "outputs": [],
   "source": [
    "# Creating a custom dataset for reading the dataframe and loading it into the dataloader to pass it to the neural network at a later stage for finetuning the model and to prepare it for predictions\n",
    "\n",
    "class CustomDataset(Dataset):\n",
    "\n",
    "    def __init__(self, dataframe, tokenizer, source_len, summ_len):\n",
    "        self.tokenizer = tokenizer\n",
    "        self.data = dataframe\n",
    "        self.source_len = source_len\n",
    "        self.summ_len = summ_len\n",
    "        self.text = self.data.text\n",
    "        self.ctext = self.data.ctext\n",
    "\n",
    "    def __len__(self):\n",
    "        return len(self.text)\n",
    "\n",
    "    def __getitem__(self, index):\n",
    "        ctext = str(self.ctext[index])\n",
    "        ctext = ' '.join(ctext.split())\n",
    "\n",
    "        text = str(self.text[index])\n",
    "        text = ' '.join(text.split())\n",
    "\n",
    "        source = self.tokenizer.batch_encode_plus([ctext], max_length= self.source_len, pad_to_max_length=True,return_tensors='pt')\n",
    "        target = self.tokenizer.batch_encode_plus([text], max_length= self.summ_len, pad_to_max_length=True,return_tensors='pt')\n",
    "        \n",
    "        # 토큰화된 텐서에서 모델에서 제공하는 두개의 키로 분류\n",
    "        source_ids = source['input_ids'].squeeze()\n",
    "        source_mask = source['attention_mask'].squeeze()\n",
    "        target_ids = target['input_ids'].squeeze()\n",
    "        target_mask = target['attention_mask'].squeeze()\n",
    "        \n",
    "        # 딕셔너리 형태로 반환\n",
    "        return {\n",
    "            'source_ids': source_ids.to(dtype=torch.long), \n",
    "            'source_mask': source_mask.to(dtype=torch.long), \n",
    "            'target_ids': target_ids.to(dtype=torch.long),\n",
    "            'target_ids_y': target_ids.to(dtype=torch.long)\n",
    "        }"
   ]
  },
  {
   "cell_type": "markdown",
   "metadata": {},
   "source": [
    "## 훈련함수 정의!!!"
   ]
  },
  {
   "cell_type": "code",
   "execution_count": 16,
   "metadata": {
    "id": "SaPAR7TWmxoM"
   },
   "outputs": [],
   "source": [
    "# Creating the training function. This will be called in the main function. It is run depending on the epoch value.\n",
    "# The model is put into train mode and then we wnumerate over the training loader and passed to the defined network \n",
    "\n",
    "def train(epoch, tokenizer, model, device, loader, optimizer):\n",
    "    model.train()# 모델 훈련모드로 설정\n",
    "    for _,data in enumerate(loader, 0): # enumerate함수를 사용하여 loader를 반복\n",
    "        y = data['target_ids'].to(device, dtype = torch.long) # Tensor객체의 메서드인 to() ,장치이동, 데이터타입변경에 쓰임\n",
    "        y_ids = y[:, :-1].contiguous() # Tensor 의 메모리 레이아웃을 연속적으로 만듬\n",
    "        labels = y[:, 1:].clone().detach()# 새로운 텐서 labels를 만듬\n",
    "        labels[y[:, 1:] == tokenizer.pad_token_id] = -100 # 패딩 토큰 위치를 -100으로 설정하고 손실 함수가 이 위치들에 대한 예측 무시하도록 하기위함\n",
    "        ids = data['source_ids'].to(device, dtype = torch.long)\n",
    "        mask = data['source_mask'].to(device, dtype = torch.long)\n",
    "\n",
    "        outputs = model(input_ids = ids, attention_mask = mask, decoder_input_ids=y_ids, labels=labels)\n",
    "        loss = outputs[0]\n",
    "        \n",
    "        if _%10 == 0:# 10번째 인덱스마다 loss출력\n",
    "            wandb.log({\"Training Loss\": loss.item()})\n",
    "\n",
    "        if _%500==0: # 500번째 인덱스마다\n",
    "            print(f'Epoch: {epoch}, Loss:  {loss.item()}')\n",
    "            with torch.no_grad(): # 500번째마다 추론단계를 거치므로 grad 계산 불필요..!추론은 grad계산 필요없으니까!\n",
    "                generated_ids = model.generate( # 텍스트 생성 함수. 트랜스포머 클래스안에 속해있는 함수이다.\n",
    "                    input_ids=ids,\n",
    "                    attention_mask=mask,\n",
    "                    max_length=300,  # Adjust the maximum length as needed\n",
    "                    num_beams=2,  # Adjust the number of beams as needed\n",
    "                    repetition_penalty=2.5,  # Adjust the repetition penalty as needed\n",
    "                    early_stopping=True\n",
    "                )\n",
    "                # 리스트 컴프리헨션\n",
    "                # tokenizer.decode 는 huggingFace 의 Tokenizer 클래스에 정의된 메서드\n",
    "                # decode 메서드는 토큰ID 의 리스트를 원래의 텍스트로 디코딩하는 기능을 수행.\n",
    "                # skip_special_tokens = True 옵션은 특수 토큰 디코딩 결과에서 제거\n",
    "                decoded_sentences = [tokenizer.decode(ids, skip_special_tokens=True) for ids in generated_ids]\n",
    "                print(\"Decoded Sentences:\")\n",
    "                print(decoded_sentences)\n",
    "        \n",
    "        optimizer.zero_grad() # 모든 모델 파라미터 그래디언트 0으로 설정, 이전에 계산된 그래디언트 제거하기 위해\n",
    "        loss.backward() # 오류 역전파\n",
    "        optimizer.step()# 모델 파라미터 업데이트\n",
    "        # 이 세가지 단계는 각 배치에서 한번씩 수행된다!!"
   ]
  },
  {
   "cell_type": "markdown",
   "metadata": {},
   "source": [
    "## 평가함수 정의!!"
   ]
  },
  {
   "cell_type": "code",
   "execution_count": 17,
   "metadata": {
    "id": "j9TNdHlQ0CLz"
   },
   "outputs": [],
   "source": [
    "def validate(epoch, tokenizer, model, device, loader):\n",
    "    model.eval()\n",
    "    predictions = []\n",
    "    actuals = []\n",
    "    with torch.no_grad():\n",
    "        for _, data in enumerate(loader, 0):\n",
    "            y = data['target_ids'].to(device, dtype = torch.long)\n",
    "            ids = data['source_ids'].to(device, dtype = torch.long)\n",
    "            mask = data['source_mask'].to(device, dtype = torch.long)\n",
    "\n",
    "            generated_ids = model.generate(\n",
    "                input_ids = ids,\n",
    "                attention_mask = mask, \n",
    "                max_length=150, \n",
    "                num_beams=2,\n",
    "                repetition_penalty=2.5, \n",
    "                length_penalty=1.0, \n",
    "                early_stopping=True\n",
    "                )\n",
    "            preds = [tokenizer.decode(g, skip_special_tokens=True, clean_up_tokenization_spaces=True) for g in generated_ids]\n",
    "            target = [tokenizer.decode(t, skip_special_tokens=True, clean_up_tokenization_spaces=True)for t in y]\n",
    "            print(\"preds: \", preds)\n",
    "            print(\"target: \", target)\n",
    "            if _%100==0:\n",
    "                print(f'Completed {_}')\n",
    "\n",
    "            predictions.extend(preds)\n",
    "            actuals.extend(target)\n",
    "    return predictions, actuals"
   ]
  },
  {
   "cell_type": "code",
   "execution_count": 18,
   "metadata": {
    "colab": {
     "base_uri": "https://localhost:8080/"
    },
    "id": "7FFDJwVkiuGW",
    "outputId": "c0d65f23-3c25-494e-b958-3278ed1ffd4c"
   },
   "outputs": [
    {
     "name": "stdout",
     "output_type": "stream",
     "text": [
      "Requirement already satisfied: sentencepiece in c:\\users\\dnclab\\anaconda3\\envs\\jaesung\\lib\\site-packages (0.1.99)\n"
     ]
    }
   ],
   "source": [
    "# SentencePiece는 Google에서 개발한 오픈 소스 기반의 비지도 학습 토크나이저 및 텍스트 인코더로, 텍스트를 토큰으로 분리하는 데 사용\n",
    "!pip install sentencepiece"
   ]
  },
  {
   "cell_type": "code",
   "execution_count": null,
   "metadata": {
    "colab": {
     "base_uri": "https://localhost:8080/",
     "height": 957
    },
    "id": "ZtNs9ytpCow2",
    "outputId": "9a63a759-17c8-4c56-927c-a7d50a1f0f47",
    "scrolled": true
   },
   "outputs": [
    {
     "name": "stderr",
     "output_type": "stream",
     "text": [
      "Failed to detect the name of this notebook, you can set it manually with the WANDB_NOTEBOOK_NAME environment variable to enable code saving.\n",
      "\u001b[34m\u001b[1mwandb\u001b[0m: Currently logged in as: \u001b[33mhjs3545\u001b[0m (\u001b[33mnlp_learning\u001b[0m). Use \u001b[1m`wandb login --relogin`\u001b[0m to force relogin\n"
     ]
    },
    {
     "data": {
      "text/html": [
       "Tracking run with wandb version 0.15.3"
      ],
      "text/plain": [
       "<IPython.core.display.HTML object>"
      ]
     },
     "metadata": {},
     "output_type": "display_data"
    },
    {
     "data": {
      "text/html": [
       "Run data is saved locally in <code>D:\\jupyter_notebook\\thesis\\wandb\\run-20230603_001210-xx2oumn6</code>"
      ],
      "text/plain": [
       "<IPython.core.display.HTML object>"
      ]
     },
     "metadata": {},
     "output_type": "display_data"
    },
    {
     "data": {
      "text/html": [
       "Syncing run <strong><a href='https://wandb.ai/nlp_learning/paper_summary_FINAL/runs/xx2oumn6' target=\"_blank\">fiery-dragon-4</a></strong> to <a href='https://wandb.ai/nlp_learning/paper_summary_FINAL' target=\"_blank\">Weights & Biases</a> (<a href='https://wandb.me/run' target=\"_blank\">docs</a>)<br/>"
      ],
      "text/plain": [
       "<IPython.core.display.HTML object>"
      ]
     },
     "metadata": {},
     "output_type": "display_data"
    },
    {
     "data": {
      "text/html": [
       " View project at <a href='https://wandb.ai/nlp_learning/paper_summary_FINAL' target=\"_blank\">https://wandb.ai/nlp_learning/paper_summary_FINAL</a>"
      ],
      "text/plain": [
       "<IPython.core.display.HTML object>"
      ]
     },
     "metadata": {},
     "output_type": "display_data"
    },
    {
     "data": {
      "text/html": [
       " View run at <a href='https://wandb.ai/nlp_learning/paper_summary_FINAL/runs/xx2oumn6' target=\"_blank\">https://wandb.ai/nlp_learning/paper_summary_FINAL/runs/xx2oumn6</a>"
      ],
      "text/plain": [
       "<IPython.core.display.HTML object>"
      ]
     },
     "metadata": {},
     "output_type": "display_data"
    },
    {
     "name": "stderr",
     "output_type": "stream",
     "text": [
      "Special tokens have been added in the vocabulary, make sure the associated word embeddings are fine-tuned or trained.\n"
     ]
    },
    {
     "name": "stdout",
     "output_type": "stream",
     "text": [
      "                                                text   \n",
      "0  본 논문은 컴퓨팅 사고력 향상을 위한 SW 교육의 효과성을 메타분석을 통해 체계적으...  \\\n",
      "1  사회불안과 섭식문제는 공병률이 높은 병리인데, 본 논문은 전자가 후자로 옮아가는 과...   \n",
      "2  본 논문은 미국, 핀란드, 에스토니아, 영국의 교사교육 사례를 분석하고 이를 통하여...   \n",
      "3  본 논문은 교육공학의 현상 이면에 보이지 않는 본질을 드러내기 위하여 존재 의미에 ...   \n",
      "4  본 논문은 최근 심신건강과 관련된 분야에서 주목받고 있는 명상 접근법인 한국형 마음...   \n",
      "\n",
      "                                               ctext  \n",
      "0  summarize: 본 연구의 목적은 컴퓨팅 사고력 향상을 위한 SW 교육의 효과성...  \n",
      "1  summarize: 사회불안과 섭식문제는 공병률이 높은 병리인데, 본 연구는 전자가...  \n",
      "2  summarize: 우리나라에서 SW교육은 21세기 미래 인재 양성을 위한 중요한 ...  \n",
      "3  summarize: ‘잘 가르치는 일’로서 교육공학은 모종의 처방적인 활동임이 틀림...  \n",
      "4  summarize: 노화로 인한 많은 변화 가운데, 특히 신체 건강과 통증은 노인들...  \n",
      "FULL Dataset: (10397, 2)\n",
      "TRAIN Dataset: (8318, 2)\n",
      "TEST Dataset: (2079, 2)\n"
     ]
    },
    {
     "name": "stderr",
     "output_type": "stream",
     "text": [
      "Truncation was not explicitly activated but `max_length` is provided a specific value, please use `truncation=True` to explicitly truncate examples to max length. Defaulting to 'longest_first' truncation strategy. If you encode pairs of sequences (GLUE-style) with the tokenizer you can select this strategy more precisely by providing a specific strategy to `truncation`.\n"
     ]
    },
    {
     "name": "stdout",
     "output_type": "stream",
     "text": [
      "Initiating Fine-Tuning for the model on our dataset\n"
     ]
    },
    {
     "name": "stderr",
     "output_type": "stream",
     "text": [
      "C:\\Users\\dnclab\\anaconda3\\envs\\jaesung\\lib\\site-packages\\transformers\\tokenization_utils_base.py:2364: FutureWarning: The `pad_to_max_length` argument is deprecated and will be removed in a future version, use `padding=True` or `padding='longest'` to pad to the longest sequence in the batch, or use `padding='max_length'` to pad to a max length. In this case, you can give a specific length with `max_length` (e.g. `max_length=45`) or leave max_length to None to pad to the maximal input size of the model (e.g. 512 for Bert).\n",
      "  warnings.warn(\n"
     ]
    },
    {
     "name": "stdout",
     "output_type": "stream",
     "text": [
      "Epoch: 0, Loss:  9.712278366088867\n",
      "Decoded Sentences:\n",
      "[' 본 연구는 소비자 불매운동에 미치는 영향을 살펴보았다. ']\n"
     ]
    },
    {
     "name": "stderr",
     "output_type": "stream",
     "text": [
      "C:\\Users\\dnclab\\anaconda3\\envs\\jaesung\\lib\\site-packages\\transformers\\tokenization_utils_base.py:2364: FutureWarning: The `pad_to_max_length` argument is deprecated and will be removed in a future version, use `padding=True` or `padding='longest'` to pad to the longest sequence in the batch, or use `padding='max_length'` to pad to a max length. In this case, you can give a specific length with `max_length` (e.g. `max_length=45`) or leave max_length to None to pad to the maximal input size of the model (e.g. 512 for Bert).\n",
      "  warnings.warn(\n"
     ]
    },
    {
     "name": "stdout",
     "output_type": "stream",
     "text": [
      "Epoch: 0, Loss:  0.1255137324333191\n",
      "Decoded Sentences:\n",
      "['교육에서 당면한 가장 큰 문제가 수학 학습에서의 학생들의 인지적 영역과 정의적 영역의 심각한 불균형으로 인식되면서 이를 해소하기 위한 정의적 영역 요인 분석, 정의적 영역 측정 도구 개발, 정의적 영역개선 방안 등에 대한 연구가 이루어지고 있다. 이 논문에서는 최근 11년간(2005 ~2015년) 한국학술지인용색인(KCI: Korea Citation Index) 등재(후보) 학술지에 실린 수학 학습에서의 정의적 영역 관련 논문 103편을 분석하고 관련된논의와 이슈 동향을 파악하고, 연구 대상으로는 중학생을 대상으로 한 연구가 가장 많았으며 초등학생 대상이 그 뒤를 이었다.']\n",
      "Epoch: 0, Loss:  0.30356431007385254\n",
      "Decoded Sentences:\n",
      "['직접적으로 영향을 미칠 수 있는 거시경제변수들은 실제로 다양한 경로를 통해 주가에 유의한 영향을 미치고 있는 것으로 알려져 있다. 이러한 방식으로, 시장수익률에 유의한 영향을 미치는 주요 거시경제요인들을 추출한 후, 각 그룹별로 주성분분석을 실시했다.']\n",
      "Epoch: 0, Loss:  0.34482818841934204\n",
      "Decoded Sentences:\n",
      "['의 여가시간 활용이 주목적이었던 동아리 활동이 현 시대의 최대 화두인 청년실업률과 맞물려 진로와 관련된 활동으로 그 분위기와 정체성이 변화하고 있다.']\n",
      "Epoch: 0, Loss:  0.12343055009841919\n",
      "Decoded Sentences:\n",
      "['예비사회적기업의 성과측정 및 정책 지원방안에 관하여 고찰함에 있다. 본 연구에서는 사회적기업 대상 균형성과 측정 연구물에 대한 이론적 고찰을 통해 통일형 사회적기업을진단할 수 있는 특화된 진단항목을 재조작했다.']\n",
      "Epoch: 0, Loss:  0.9146339297294617\n",
      "Decoded Sentences:\n",
      "['소비자보호문제는 특정 영역 또는 부처에 국한되는 것이 아닌 대다수의 영역에서 강조되고 있으며, 모든 부처가 관심을 가지는 분야이다. 그러나 2018년 한 해는 소비자보호법의 역사에 있어서 침체기라고 할 정도로 그 입법동향은 미약하다. 다만, 2018년에 이루어진 소비자보호법에 대한 입법동향에서 의미를 찾는다고 한다면 개인정보보호와 관련하여 해외사업자에 관한 규제가 이루어질 수 있는 근거를 마련하였다는 점을 들 수 있다.']\n",
      "Epoch: 0, Loss:  0.13288961350917816\n",
      "Decoded Sentences:\n",
      "['및 자유학기제 연구학교의 사례를 분석하여, 연계학기의 모습과 특징을 알아보고자 하였다. 이 연구를 통해 갈등 이론에 속하는 ‘양가성’이 ‘전형성’이라는 하나의 상(像)으로 귀결될 수 있음을 논의했다.']\n",
      "Epoch: 0, Loss:  0.025859098881483078\n",
      "Decoded Sentences:\n",
      "['의 형성이나 의제설정과정뿐만 아니라 보다 거시적인 시스템적인 관점에서 여성정책변동과정의 지속적인 환류적 메커니즘을 주목하고 이에 영향을 미치는 요소들과 이들간의 상호작용적 관계를 분석하는 것이 필요하다.']\n",
      "Epoch: 0, Loss:  0.0923217311501503\n",
      "Decoded Sentences:\n",
      "['>의 서사에서 논의의 중심이 될 ‘경계성’은 아버지의 부재에서 비롯된 가족의 해체와 복원 사이에서 발생한다. 서사의 중심에 있는 주인공 경숙이는 이 연극을 가족서사로 볼 수 있게 하는 중요한 인물이다. 이 작품은 경숙이의 성장에서 발견되는 복합적인 가족 구성의 과정이 경숙이가 아버지의 꼭짓점에서부터 발생하는 경계성의 미학이 중요한 극적 장치로 활용되고 있는지 세 측면에서 살펴보고자 한다.']\n",
      "Epoch: 0, Loss:  0.24490779638290405\n",
      "Decoded Sentences:\n",
      "['. 이 연구의 목적은 맞벌이 부부의 가용시간 내에서 가사 및 돌봄노동의 분담격차가 여성의우울에 미치는 영향을 분석하는 것이다.']\n",
      "Epoch: 0, Loss:  0.15126751363277435\n",
      "Decoded Sentences:\n",
      "['의 언어의사소통 평가도구의 타당화를 위한 3차 연구에 이어 평가도구가 유아의 언어의사소통을 신뢰성 있고 일관성 있게 평가할 수 있는가를 알아보기 위해 검사의 양호도를 알아보는데 목적이 있다.']\n",
      "Epoch: 0, Loss:  0.09849933534860611\n",
      "Decoded Sentences:\n",
      "['이라는 용어가 오늘날 학습자 주도의 교육현상을 충분히 반영하고 있지 못하다는 문제의식에서 출발하여, 『조선왕조실록』에 등장하는 다양한 교육 관련 용어들의 분석을 통해 교육개념을 재정립하고자 한다. 본 연구의 결과를 정리하면 다음과 같다.']\n",
      "Epoch: 0, Loss:  0.047767095267772675\n",
      "Decoded Sentences:\n",
      "['이 필요한 백골화시신이 발견된 경우 성별판별은 가장 먼저 시행되는 과정으로 머리뼈는 성별판별에높은 정확도를 보이는 뼈들 중 하나이다. 한국인 머리뼈를 계측하여 계측값으로 성별을 비교한 연구는 있었으나 판별방정식을 제안한 연구는 없었다.']\n",
      "Epoch: 0, Loss:  0.023881295695900917\n",
      "Decoded Sentences:\n",
      "['주요 경제변수들에 미치는 영향을 분석하기 위해 2000년 1월부터 2015년 12월까지의 기간 동안 국제유가, 한국종합주가지수, 산업생산지수, 소비자물가지수, 91일물 CD이자율, 원/달러환율의 월별자료를 대상으로 글로벌 금융위기 이전과 이후의 기간으로 구분해 분석했다.']\n",
      "Epoch: 0, Loss:  0.07088886946439743\n",
      "Decoded Sentences:\n",
      "['왔다. 그런데 로스쿨에서의 실무교육은 로스쿨이 비정기적·제한적으로 운영하는 리걸클리닉이나로펌 등 법률사무소, 법원, 검찰, 공공기관 등 외부 기관에서의 방학 중 짧은 연수로 이뤄지는데 거치고 있다.']\n",
      "Epoch: 0, Loss:  0.05126160383224487\n",
      "Decoded Sentences:\n",
      "['연구들에 나타난 보조공학 기구들을 세트(SETT; 학습자, 환경, 도구, 과제) 프레임워크를통해 체계적으로 분석함으로써, 보조공학의 기구들이 그 기능을 충분히 발휘할 수 있도록 설계되었는지 그렇지 못하다면 어떠한 부분이 보완될 필요가 있는지를 살펴보고자 했다.']\n",
      "Epoch: 0, Loss:  0.24032022058963776\n",
      "Decoded Sentences:\n",
      "['과 관련된 전기적 사실과 관련지어 활발하게 초기 연구들이 전개되었던 데 비해, 한편으로 그러한 특수성이 시를 읽는 데 또한 한계로 작용할 수 있다는 점이 염려된 것은 당연하다. 이 글은 개인들의 신체와 삶의 형식들이 배제로서 포함됨으로써 주권적 권력의 형성기반을 마련한다는 조르조 아감벤의 논의를 토대로 나병 환자란 공동체로부터 추방당한 자─즉 벌거벗은 생명으로 본다.']\n",
      "Epoch: 1, Loss:  0.3272430896759033\n",
      "Decoded Sentences:\n",
      "['를 살펴보고자 했다. 이성교제 중인 194쌍의 미혼 커플을 대상으로, 친밀관계 경험척도, 이성관계 만족척도, 역기능적 의사소통 행동척도를 포함하는 설문 자료를 수집했다. 자료는 구조방정식을 이용한 자기-상대방 상호의존모형을 적용해 분석했다.']\n",
      "Epoch: 1, Loss:  0.2066359966993332\n",
      "Decoded Sentences:\n",
      "['중·고등학교 교사들이 인식하는 학교장의 교육지도성과 교사학습공동체의 관계를 실증적으로 파악하고, 학교장 교육지도성이 중등학교 교사들의 학습공동체에 미치는 영향을 분석하는 데 목적을 두고 있다. 이는 학교장의 교육지도성이 교사학습공동체가 형성되는 데 긍정적으로 작용될 수 있음을 의미한다.']\n",
      "Epoch: 1, Loss:  0.08299329876899719\n",
      "Decoded Sentences:\n",
      "[' 사회적가치의 패러다임은 세 가지 측면에서 다르다고 설명한다. 기업의 잉여 중 일부를 기부하거나 환원하는 사회적 책임(CSR)이나 사회적 기업의 한계를 넘어서기 위한 새로운 패러다임으로 등장한 개념으로 자본주의가 ‘시장’에서 ‘화폐가치로 환산될 수만 있다면’ 도덕적 한계를 초월한 환경오염이나 환경 파괴마저 거래할 수 있는 공간으로 작동시키면서 사회 문제를 극복해 가도록 시장 생태계를 근본적으로 전환하고, 다양한 경제 주체들이 자연환경과 사회환경 속에서 조화로운 관계를 정립하도록 하기 위해 형성된 개념이라 할 수 있다.']\n",
      "Epoch: 1, Loss:  0.1712222397327423\n",
      "Decoded Sentences:\n",
      "['교육 연수의 한계를 분석하고 융합형 교육 연수의 한계와 과제를 분석하고자 했다. 이 연구는 융합형 교육 관련 현직 교사교육 실태를 분석하고 융합형 교육 연수의 한계와 과제를 분석하려 했다.']\n",
      "Epoch: 1, Loss:  0.0370066873729229\n",
      "Decoded Sentences:\n",
      "['및 기소, 재판의 과정을 거쳐 형벌의 선고에 이르게 되면, 선고된 형벌을 집행함으로써 그 절차가 사실상 종료된다. 양형은 단기자유형의 대체형으로서 비용이 적게 들고 범죄의 악성감염이나 낙인효과, 과밀수용으로 인한 수용환경의 악화를 방지할 수 있으면서도 범죄예방효과를 가져올 수 있는 장점이 있다.']\n",
      "Epoch: 1, Loss:  0.07761071622371674\n",
      "Decoded Sentences:\n",
      "['년부터 2014년 동안 순천만과 보성벌교갯벌 습지보호지역을 대상으로 시민모니터링한 결과를 정리한 것이다. 물새는 2013년에 비해 2014년에 최대 6종의 모니터링 물새가 관찰되어 증가했고, 개체수도 2013년에 비해 2014년에 감소했다.']\n",
      "Epoch: 1, Loss:  0.04421355947852135\n",
      "Decoded Sentences:\n",
      "['S 이미지 센서를 사용한 방사선 측정 알고리즘과 장치의 구성을 제안한다. CMOS 이미지 센서를 사용한 방사선 측정 알고리즘은 CMOS 이미지 센서에 입사된 방사선 입자 판별 알고리즘과 CMOS 이미지 센서로 매초 수 십장의 이미지에 입사된 방사선 입자에 관한 픽셀 수의 누적 및 평균을 기준으로 하는 방사선 수치 측정 알고리즘을 사용한다.']\n",
      "Epoch: 1, Loss:  0.20598359405994415\n",
      "Decoded Sentences:\n",
      "['. 김춘수의 『한국 현대시 형태론』은 자유시와 산문시의 형태와 구성요소를 본격적으로 분석했다는 점에서 의의가 있다. 그가 강조한 행과 연에 의한 리듬의 발생은 산문화되고 있는 자유시의 중요한 기능을 설명했다. 더 나아가 앙리 메쇼닉의 의미를 포함하는 리듬의 개념은 시의 리듬 연구가 음성과 의미의 이분법적 차원을 넘어서게 했다.']\n",
      "Epoch: 1, Loss:  0.3247423768043518\n",
      "Decoded Sentences:\n",
      "[' 전남지역에 소재한 소상공인 지원기관에서 지원하고 있는 소상공인 지원제도의 실효성을 검증하여 소상공인의 경쟁력 강화와 고용창출을 위한 방안을 모색하는데 있다. 이 연구결과를 바탕으로 소상공인 지원제도가 경영자역량을 향상시키고 재무적성과를 증진시켜 고용을 창출할 수 있도록 각 지원제도들 간 연계를 강화하는 제도개선 노력이 필요할 것이다.']\n",
      "Epoch: 1, Loss:  0.029198169708251953\n",
      "Decoded Sentences:\n",
      "['연구는 ASSURE 이론에 기초하여, 예비유아교사의 모의수업에서 효율적으로 실행할 수 있는 모의수업 모형을 개발하고 적용하여 그 효과를 분석하는 데 목적이 있다. 연구는 S시에 소재한 A대학교 유아교육과 3, 4학년을 대상으로 2011년도 2학기에서 2012년도 2학기까지 실시되었다.']\n",
      "Epoch: 1, Loss:  0.012101742438971996\n",
      "Decoded Sentences:\n",
      "['연구는 羅?의 行旅詩를 통해 그가 지녔던 비애와 귀향의식, 출세와 은거 사이에서의 모순된 심정의 일단을 살펴보는 것이다. 정착하지 못한 신세와 현실에서 느끼는 한계의식은 시인으로 하여금 일신의 비애감을 표출하거나 울분억제를 도모하는 차원에서 작품을 창작하도록 하는 결과로 인도하기도 했을 것이다.']\n",
      "Epoch: 1, Loss:  0.03234193101525307\n",
      "Decoded Sentences:\n",
      "['이 활발하게 진행되면서 과거에 비해 사람이 거주하며 생활할 수 있는 공간이 더욱 확장되었다. 이는 군사기지 및 군사시설이 있는 근처까지 진입해 사람들이 터전을 마련하는 것으로 나타났다. 이것과 관련하여 정부 및 군과 지역 주민사이에 의견의 대립으로 인한 첨예한 갈등을 보이는 상황이 연출되기도 한다.']\n",
      "Epoch: 1, Loss:  0.23098118603229523\n",
      "Decoded Sentences:\n",
      "[' 3명의 전문가를 통해 수업 전후의 글쓰기를 평가하였고, 교육을 받은 후에 학습자의 실제 글을 통해 통계적인 수치가 나타나는 양상을 살펴보고자 했다.']\n",
      "Epoch: 1, Loss:  0.06896819174289703\n",
      "Decoded Sentences:\n",
      "['도에서의 성차 현상을 분석했다. 초등학교 3학년과 대학교 2학년 단계에서 여학생의 우세현상이 나타났으며 그 외 학년 및 중학교 단계에서는 성차가 나타나지 않는 것으로 분석되었다.']\n",
      "Epoch: 1, Loss:  0.05827561020851135\n",
      "Decoded Sentences:\n",
      "['(Turbo compressor)용 틸팅 패드 저널 베어링은 고속, 고하중의 주축을 지지하는 역할을 하며, 화이트 메탈(White metal)이 대표적인 소재로 널리 사용되어왔다. 이 연구에서는 고 내열성 탄소섬유/에폭시 복합재료 틸팅 패드 저널 베어링의 오일공급 중단 상황에서의 내구성에 대한 연구를 진행했다.']\n",
      "Epoch: 1, Loss:  0.26841306686401367\n",
      "Decoded Sentences:\n",
      "['이후에 원자력발전에 대한 국제사회의 반응에 차이가 나타났다. 원전 위험에 대한 사회적 여론이 확대되어 국가적으로 원전에 대한 지원을 감소시키거나 중단하는 국가와 원자력 발전에 대한 우려를 안전평가를 통해 완화하고 기술 점검으로 원전위험을 감소시킴으로써 원전지원정책을 계속 유지하려는 국가의 방향이다.']\n",
      "Epoch: 1, Loss:  0.07654793560504913\n",
      "Decoded Sentences:\n",
      "['이나 Fortune지의 500대기업 평균수명 40~50년설과 같이 기업수명 관련 연구들에 의하면, 기업의 수명은 인간에 비해 의외로 짧다는 것을 알 수 있다. 이 연구는 이런 기업의 평균수명보다 수십 배나 장수한, 세계 최장수기업인 일본의 ‘콩고구미(金剛組)’를 대상으로 1,400여년을 생존해온 최장수요인들을 사업승계전략의 관점에서 분석하고자 한다.']\n",
      "Epoch: 2, Loss:  0.04736611247062683\n",
      "Decoded Sentences:\n",
      "['경험할 수 있는 자기조절자원의 소진 상황에서도 꾸준히 자신을 통제할 수 있는 방안을 제시하고자 한다. 본 연구는 장기적 목표 추구 과정에서 발생하는 자기조절자원의 소진을 극복하는 방법으로 심적 계정이 포함하는 기준과 자기 감시의 효과성을 확인하였다는 점에서 의의가 있다.']\n",
      "Epoch: 2, Loss:  0.02999872714281082\n",
      "Decoded Sentences:\n",
      "['즉 그의 자유란 개인적 자유와 공유적 자유를 모두 아우르는 개념으로서 ‘공유적(公有的) 진아(眞我)’와 ‘각구적(各具的) 진아’의 동시성을 의미하고, ‘유아독존(唯我獨尊)’으로 총칭된다.']\n",
      "Epoch: 2, Loss:  0.11636493355035782\n",
      "Decoded Sentences:\n",
      "[' 정당성에 관한 논의가 경험을 근거로 하는 믿음이나 추론을 통한 믿음에 집중되었던 반면, 이 논문에서는 기억에 근거한 인식적 정당성의 논의를 증거론의 입장에서 다룬다. 하지만 이런 경우에 두 사람의 인식적 정당성은 달라야 한다는 것이 증거론에 관한 반론의 핵심이다.']\n",
      "Epoch: 2, Loss:  0.22735495865345\n",
      "Decoded Sentences:\n",
      "[' 중 대가노부(鹵簿)가 황제만이 지낼 수 있는 원구(?丘)제례와 연계되어 있으며, 가장 큰 규모로 구성되어 있어, 대한제국에서 구상했던 황제 행차의 정수(精髓)라 할 수 있다. 군악대는 두 가지로 해석될 수 있는 가능성을 제시해 보았다.']\n"
     ]
    }
   ],
   "source": [
    "from transformers import T5TokenizerFast, T5ForConditionalGeneration\n",
    "from transformers import PreTrainedTokenizerFast, BartModel\n",
    "\n",
    "def main():\n",
    "    # WandB 초기화\n",
    "    wandb.init(project=\"paper_summary_FINAL\")\n",
    "\n",
    "    # config 변수 설정, wandb.config \n",
    "    # 하이퍼파라미터 설정\n",
    "    config = wandb.config          # Initialize config\n",
    "    config.TRAIN_BATCH_SIZE = 1    # input batch size for training (default: 64)\n",
    "    config.VALID_BATCH_SIZE = 1    # input batch size for testing (default: 1000)\n",
    "    config.TRAIN_EPOCHS = 5        # number of epochs to train (default: 10)\n",
    "    config.VAL_EPOCHS = 5 \n",
    "    config.LEARNING_RATE = 1e-4    # learning rate (default: 0.01)\n",
    "    config.SEED = 42               # random seed (default: 42)\n",
    "    config.MAX_LEN = 1024\n",
    "    config.SUMMARY_LEN = 200\n",
    "\n",
    "    # 실험결과 재현위한 시드설정\n",
    "    torch.manual_seed(config.SEED) # pytorch random seed\n",
    "    np.random.seed(config.SEED) # numpy random seed\n",
    "    torch.backends.cudnn.deterministic = True\n",
    "\n",
    "    # 모델명 \"KETI-AIR/ke-t5-base\"\n",
    "    model_name = \"paust/pko-t5-base\"\n",
    "\n",
    "    # 설정한 사전 훈련 모델을 이용해 토크나이저 로드\n",
    "    tokenizer = T5TokenizerFast.from_pretrained(model_name)\n",
    "\n",
    "    \n",
    "    # 데이터파일 읽고, 요약텍스트(text), 원문(ctexct) 선택해서 데이터프레임으로 변형\n",
    "    df = pd.read_csv(path+'train.csv',encoding='utf-8')\n",
    "    df = df[['text','ctext']]\n",
    "    df.ctext = 'summarize: ' + df.ctext\n",
    "    print(df.head())\n",
    "\n",
    "    \n",
    "    # 학습데이터셋(80%)과 검증데이터셋 분할\n",
    "    train_size = 0.8\n",
    "    train_dataset=df.sample(frac=train_size,random_state = config.SEED)\n",
    "    val_dataset=df.drop(train_dataset.index).reset_index(drop=True)\n",
    "    train_dataset = train_dataset.reset_index(drop=True)\n",
    "\n",
    "    print(\"FULL Dataset: {}\".format(df.shape))\n",
    "    print(\"TRAIN Dataset: {}\".format(train_dataset.shape))\n",
    "    print(\"TEST Dataset: {}\".format(val_dataset.shape))\n",
    "\n",
    "\n",
    "    # 위에서 정의한 CustomDataset을 사용해서 학습세트와 검증세트 생성\n",
    "    # CustomDataset은 텍스트를 토큰화하고 모델에 입력할 수 있는 형식으로 변환하는 역할\n",
    "    training_set = CustomDataset(train_dataset, tokenizer, config.MAX_LEN, config.SUMMARY_LEN)\n",
    "    val_set = CustomDataset(val_dataset, tokenizer, config.MAX_LEN, config.SUMMARY_LEN)\n",
    "\n",
    "    # 아래 만들어질 데이터로더에 들어갈 하이퍼 파라미터 생성\n",
    "    train_params = {\n",
    "        'batch_size': config.TRAIN_BATCH_SIZE,\n",
    "        'shuffle': True,\n",
    "        'num_workers': 0\n",
    "        }\n",
    "\n",
    "    val_params = {\n",
    "        'batch_size': config.VALID_BATCH_SIZE,\n",
    "        'shuffle': False,\n",
    "        'num_workers': 0\n",
    "        }\n",
    "\n",
    "    # Creation of Dataloaders for testing and validation. This will be used down for training and validation stage for the model.\n",
    "    # DataLoader(training_set, **train_params)는 DataLoader(training_set, batch_size=config.TRAIN_BATCH_SIZE, shuffle=True, num_workers=0)와 동일한 효과\n",
    "    training_loader = DataLoader(training_set, **train_params)\n",
    "    val_loader = DataLoader(val_set, **val_params)\n",
    "    \n",
    "    \n",
    "    # 모델 정의, 위에서 정의한 \"paust/pko-t5-base\" 를 사용한다.\n",
    "    # to함수 사용하여 model gpu device로 이동시켜주기\n",
    "    model = T5ForConditionalGeneration.from_pretrained(model_name)\n",
    "    model = model.to(device)\n",
    "\n",
    "    # Defining the optimizer that will be used to tune the weights of the network in the training session. \n",
    "    # T5ForConditionalGeneration 모델의 인스턴스를 만들 때, 이 모델은 nn.Module의 모든 메서드와 속성을 상속받는다. \n",
    "    # model.parameters()는 모델의 모든 학습 가능한 매개변수를 Adam 옵티마이저에 전달.\n",
    "    optimizer = torch.optim.Adam(params =  model.parameters(), lr=config.LEARNING_RATE)\n",
    "\n",
    "    # Log metrics with wandb\n",
    "    wandb.watch(model, log=\"all\")\n",
    "    # Training loop\n",
    "    print('Initiating Fine-Tuning for the model on our dataset')\n",
    "    \n",
    "    # @@@@@훈련루프@@@@@\n",
    "    # for문을 이용하여 훈련루프를 설정한다. config.TRAIN_EPOCHS로 에폭 수 설정!!\n",
    "    # 실질적으로 훈련시작하는 구문!!\n",
    "    for epoch in range(config.TRAIN_EPOCHS):\n",
    "        train(epoch, tokenizer, model, device, training_loader, optimizer)\n",
    "\n",
    "    # @@@@@검증루프@@@@@\n",
    "    # saving the resulting file with predictions and acutals in a dataframe.\n",
    "    # Saving the dataframe as predictions.csv\n",
    "    print('Now generating summaries on our fine tuned model for the validation dataset and saving it in a dataframe')\n",
    "    for epoch in range(config.VAL_EPOCHS):\n",
    "        predictions, actuals = validate(epoch, tokenizer, model, device, val_loader)\n",
    "        final_df = pd.DataFrame({'Generated Text':predictions,'Actual Text':actuals})\n",
    "        final_df.to_csv(path+'resultFINAL.csv')\n",
    "        print('Output Files generated for review')\n",
    "\n",
    "if __name__ == '__main__':\n",
    "    main()"
   ]
  },
  {
   "cell_type": "code",
   "execution_count": null,
   "metadata": {},
   "outputs": [],
   "source": []
  }
 ],
 "metadata": {
  "accelerator": "GPU",
  "colab": {
   "gpuType": "T4",
   "provenance": []
  },
  "gpuClass": "standard",
  "kernelspec": {
   "display_name": "jaesung-torch-tensor",
   "language": "python",
   "name": "jaesung"
  },
  "language_info": {
   "codemirror_mode": {
    "name": "ipython",
    "version": 3
   },
   "file_extension": ".py",
   "mimetype": "text/x-python",
   "name": "python",
   "nbconvert_exporter": "python",
   "pygments_lexer": "ipython3",
   "version": "3.9.11"
  },
  "varInspector": {
   "cols": {
    "lenName": 16,
    "lenType": 16,
    "lenVar": 40
   },
   "kernels_config": {
    "python": {
     "delete_cmd_postfix": "",
     "delete_cmd_prefix": "del ",
     "library": "var_list.py",
     "varRefreshCmd": "print(var_dic_list())"
    },
    "r": {
     "delete_cmd_postfix": ") ",
     "delete_cmd_prefix": "rm(",
     "library": "var_list.r",
     "varRefreshCmd": "cat(var_dic_list()) "
    }
   },
   "types_to_exclude": [
    "module",
    "function",
    "builtin_function_or_method",
    "instance",
    "_Feature"
   ],
   "window_display": false
  }
 },
 "nbformat": 4,
 "nbformat_minor": 4
}
