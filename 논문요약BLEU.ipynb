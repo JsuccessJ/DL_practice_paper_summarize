{
 "cells": [
  {
   "cell_type": "code",
   "execution_count": 8,
   "id": "0a78d1bb-1f14-4a1d-9de9-8e6a18cb01b0",
   "metadata": {},
   "outputs": [],
   "source": [
    "import pandas as pd\n",
    "from nltk.translate.bleu_score import sentence_bleu"
   ]
  },
  {
   "cell_type": "code",
   "execution_count": 6,
   "id": "b1d246d7-87c7-4439-a593-ddf1b74b9a32",
   "metadata": {},
   "outputs": [
    {
     "name": "stderr",
     "output_type": "stream",
     "text": [
      "C:\\Users\\dnclab\\anaconda3\\envs\\jaesung\\lib\\site-packages\\nltk\\translate\\bleu_score.py:552: UserWarning: \n",
      "The hypothesis contains 0 counts of 2-gram overlaps.\n",
      "Therefore the BLEU score evaluates to 0, independently of\n",
      "how many N-gram overlaps of lower order it contains.\n",
      "Consider using lower n-gram order or use SmoothingFunction()\n",
      "  warnings.warn(_msg)\n",
      "C:\\Users\\dnclab\\anaconda3\\envs\\jaesung\\lib\\site-packages\\nltk\\translate\\bleu_score.py:552: UserWarning: \n",
      "The hypothesis contains 0 counts of 3-gram overlaps.\n",
      "Therefore the BLEU score evaluates to 0, independently of\n",
      "how many N-gram overlaps of lower order it contains.\n",
      "Consider using lower n-gram order or use SmoothingFunction()\n",
      "  warnings.warn(_msg)\n",
      "C:\\Users\\dnclab\\anaconda3\\envs\\jaesung\\lib\\site-packages\\nltk\\translate\\bleu_score.py:552: UserWarning: \n",
      "The hypothesis contains 0 counts of 4-gram overlaps.\n",
      "Therefore the BLEU score evaluates to 0, independently of\n",
      "how many N-gram overlaps of lower order it contains.\n",
      "Consider using lower n-gram order or use SmoothingFunction()\n",
      "  warnings.warn(_msg)\n"
     ]
    },
    {
     "name": "stdout",
     "output_type": "stream",
     "text": [
      "Average BLEU Score:  0.4893266622165542\n"
     ]
    }
   ],
   "source": [
    "# CSV 파일 로드\n",
    "data = pd.read_csv('./result2.csv',encoding='ANSI') \n",
    "\n",
    "# 두 번째 열과 세 번째 열을 단어 단위로 분할\n",
    "data.iloc[:, 1] = data.iloc[:, 1].apply(lambda x: x.split())  # summary\n",
    "data.iloc[:, 2] = data.iloc[:, 2].apply(lambda x: x.split())  # target\n",
    "\n",
    "# BLEU 점수 계산\n",
    "data['bleu_score'] = data.apply(lambda row: sentence_bleu([row.iloc[2]], row.iloc[1]), axis=1)\n",
    "\n",
    "# 평균 BLEU 점수 출력\n",
    "average_bleu = data['bleu_score'].mean()\n",
    "print(\"Average BLEU Score: \", average_bleu)"
   ]
  },
  {
   "cell_type": "code",
   "execution_count": null,
   "id": "d1fcc75f-fa4d-4124-926a-a59b6231b4f0",
   "metadata": {},
   "outputs": [],
   "source": []
  }
 ],
 "metadata": {
  "kernelspec": {
   "display_name": "jaesung-torch-tensor",
   "language": "python",
   "name": "jaesung"
  },
  "language_info": {
   "codemirror_mode": {
    "name": "ipython",
    "version": 3
   },
   "file_extension": ".py",
   "mimetype": "text/x-python",
   "name": "python",
   "nbconvert_exporter": "python",
   "pygments_lexer": "ipython3",
   "version": "3.9.11"
  }
 },
 "nbformat": 4,
 "nbformat_minor": 5
}
